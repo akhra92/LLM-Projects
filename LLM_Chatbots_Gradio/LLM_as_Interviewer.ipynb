{
 "cells": [
  {
   "cell_type": "code",
   "execution_count": 6,
   "id": "d4862256-7ca2-48e2-aac8-9964fd49a355",
   "metadata": {},
   "outputs": [],
   "source": [
    "import os\n",
    "import ollama\n",
    "import gradio as gr"
   ]
  },
  {
   "cell_type": "code",
   "execution_count": 7,
   "id": "4d71253e-4c44-45d0-88e8-ec696ce99784",
   "metadata": {},
   "outputs": [],
   "source": [
    "MODEL_LLAMA = 'llama3.2'"
   ]
  },
  {
   "cell_type": "code",
   "execution_count": 8,
   "id": "869f36e6-246a-4f92-b963-cf2be2d472f7",
   "metadata": {},
   "outputs": [],
   "source": [
    "system_message = \"You are an interviewer who is conducting an interview with a candidate for an AI engineer position. Ask around 10 questions to check his knowledge and at the end give feedback.\""
   ]
  },
  {
   "cell_type": "code",
   "execution_count": 12,
   "id": "8a5b5510-9636-42a7-a23f-8a4acdf94b1b",
   "metadata": {},
   "outputs": [],
   "source": [
    "def chat(message):\n",
    "    messages = [{\"role\": \"system\", \"content\": system_message}, {\"role\": \"user\", \"content\": message}]    \n",
    "\n",
    "    stream =  ollama.chat(model=MODEL_LLAMA, messages=messages, stream=True)\n",
    "\n",
    "    response_text = \"\"\n",
    "    for chunk in stream:\n",
    "        response_text += chunk['message']['content']\n",
    "        yield response_text"
   ]
  },
  {
   "cell_type": "code",
   "execution_count": 13,
   "id": "adad4192-b834-42c2-90e8-38c4ddbdc6bd",
   "metadata": {},
   "outputs": [
    {
     "name": "stdout",
     "output_type": "stream",
     "text": [
      "* Running on local URL:  http://127.0.0.1:7863\n",
      "* Running on public URL: https://d66ca04da5856b808e.gradio.live\n",
      "\n",
      "This share link expires in 1 week. For free permanent hosting and GPU upgrades, run `gradio deploy` from the terminal in the working directory to deploy to Hugging Face Spaces (https://huggingface.co/spaces)\n"
     ]
    },
    {
     "data": {
      "text/html": [
       "<div><iframe src=\"https://d66ca04da5856b808e.gradio.live\" width=\"100%\" height=\"500\" allow=\"autoplay; camera; microphone; clipboard-read; clipboard-write;\" frameborder=\"0\" allowfullscreen></iframe></div>"
      ],
      "text/plain": [
       "<IPython.core.display.HTML object>"
      ]
     },
     "metadata": {},
     "output_type": "display_data"
    },
    {
     "data": {
      "text/plain": []
     },
     "execution_count": 13,
     "metadata": {},
     "output_type": "execute_result"
    }
   ],
   "source": [
    "gr.ChatInterface(fn=chat, type=\"messages\").launch(share=True)"
   ]
  },
  {
   "cell_type": "code",
   "execution_count": null,
   "id": "d70dc625-26ad-4649-a065-369c2845a374",
   "metadata": {},
   "outputs": [],
   "source": []
  }
 ],
 "metadata": {
  "kernelspec": {
   "display_name": "Python 3 (ipykernel)",
   "language": "python",
   "name": "python3"
  },
  "language_info": {
   "codemirror_mode": {
    "name": "ipython",
    "version": 3
   },
   "file_extension": ".py",
   "mimetype": "text/x-python",
   "name": "python",
   "nbconvert_exporter": "python",
   "pygments_lexer": "ipython3",
   "version": "3.11.12"
  }
 },
 "nbformat": 4,
 "nbformat_minor": 5
}
