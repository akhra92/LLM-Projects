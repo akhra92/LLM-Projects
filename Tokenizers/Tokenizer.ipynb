{
 "cells": [
  {
   "cell_type": "code",
   "execution_count": 2,
   "metadata": {},
   "outputs": [
    {
     "name": "stderr",
     "output_type": "stream",
     "text": [
      "/Users/akhra92/miniconda3/envs/my_env/lib/python3.12/site-packages/tqdm/auto.py:21: TqdmWarning: IProgress not found. Please update jupyter and ipywidgets. See https://ipywidgets.readthedocs.io/en/stable/user_install.html\n",
      "  from .autonotebook import tqdm as notebook_tqdm\n"
     ]
    },
    {
     "name": "stdout",
     "output_type": "stream",
     "text": [
      "WordPiece Tokens: {'input_ids': [101, 1045, 2066, 2000, 4553, 1998, 3218, 2222, 5244, 2478, 17662, 12172, 999, 102], 'token_type_ids': [0, 0, 0, 0, 0, 0, 0, 0, 0, 0, 0, 0, 0, 0], 'attention_mask': [1, 1, 1, 1, 1, 1, 1, 1, 1, 1, 1, 1, 1, 1]}\n",
      " BPE Tokens: {'input_ids': [40, 588, 284, 2193, 290, 3357, 27140, 10128, 1262, 12905, 2667, 2550, 0], 'attention_mask': [1, 1, 1, 1, 1, 1, 1, 1, 1, 1, 1, 1, 1]}\n"
     ]
    }
   ],
   "source": [
    "from transformers import BertTokenizer, GPT2Tokenizer\n",
    "\n",
    "example = \"I like to learn and practice LLMs using Huggingface!\"\n",
    "\n",
    "wp_tokenizer = BertTokenizer.from_pretrained('bert-base-uncased') # WordPiece tokenizer\n",
    "wp_tokens = wp_tokenizer(example)\n",
    "\n",
    "bpe_tokenizer = GPT2Tokenizer.from_pretrained('gpt2')\n",
    "bpe_tokens = bpe_tokenizer(example)\n",
    "print(f\"WordPiece Tokens: {wp_tokens}\\n BPE Tokens: {bpe_tokens}\")"
   ]
  },
  {
   "cell_type": "code",
   "execution_count": 3,
   "metadata": {},
   "outputs": [],
   "source": [
    "from datasets import load_dataset\n",
    "\n",
    "class IMDBDataset:\n",
    "\n",
    "    def __init__(self, dataset_name = 'imdb'):\n",
    "        self.dataset_name = dataset_name\n",
    "        self.dataset = None\n",
    "    def load(self):\n",
    "        self.dataset = load_dataset(self.dataset_name)\n",
    "\n",
    "        return self.dataset"
   ]
  },
  {
   "cell_type": "code",
   "execution_count": 4,
   "metadata": {},
   "outputs": [],
   "source": [
    "ds = IMDBDataset().load()"
   ]
  },
  {
   "cell_type": "code",
   "execution_count": 5,
   "metadata": {},
   "outputs": [
    {
     "data": {
      "text/plain": [
       "dict_keys(['train', 'test', 'unsupervised'])"
      ]
     },
     "execution_count": 5,
     "metadata": {},
     "output_type": "execute_result"
    }
   ],
   "source": [
    "ds.keys()"
   ]
  },
  {
   "cell_type": "code",
   "execution_count": 6,
   "metadata": {},
   "outputs": [
    {
     "name": "stdout",
     "output_type": "stream",
     "text": [
      "Train Samples: 25000\n",
      "Test Samples: 25000\n"
     ]
    }
   ],
   "source": [
    "print(f\"Train Samples: {len(ds['train'])}\")\n",
    "print(f\"Test Samples: {len(ds['test'])}\")"
   ]
  },
  {
   "cell_type": "code",
   "execution_count": 7,
   "metadata": {},
   "outputs": [
    {
     "name": "stdout",
     "output_type": "stream",
     "text": [
      "First 3 samples\n",
      "\n",
      "Sample 1:\n",
      "Label: 0 (Negative)\n",
      "Text: I rented I AM CURIOUS-YELLOW from my video store because of all the controversy that surrounded it when it was first released in 1967. I also heard that at first it was seized by U.S. customs if it ev...\n",
      "\n",
      "Sample 2:\n",
      "Label: 0 (Negative)\n",
      "Text: \"I Am Curious: Yellow\" is a risible and pretentious steaming pile. It doesn't matter what one's political views are because this film can hardly be taken seriously on any level. As for the claim that ...\n",
      "\n",
      "Sample 3:\n",
      "Label: 0 (Negative)\n",
      "Text: If only to avoid making this type of film in the future. This film is interesting as an experiment but tells no cogent story.<br /><br />One might feel virtuous for sitting thru it because it touches ...\n"
     ]
    }
   ],
   "source": [
    "print(\"First 3 samples\")\n",
    "for i in range(3):\n",
    "    sample = ds['train'][i]\n",
    "    print(f\"\\nSample {i+1}:\")\n",
    "    print(f\"Label: {sample['label']} ({'Positive' if sample['label'] == 1 else 'Negative'})\")\n",
    "    print(f\"Text: {sample['text'][:200]}...\")"
   ]
  },
  {
   "cell_type": "code",
   "execution_count": 8,
   "metadata": {},
   "outputs": [
    {
     "name": "stdout",
     "output_type": "stream",
     "text": [
      "Label distribution:\n",
      "Negative (0): 12500\n",
      "Positive (1): 12500\n"
     ]
    }
   ],
   "source": [
    "import matplotlib.pyplot as plt\n",
    "from collections import Counter\n",
    "\n",
    "labels = ds['train']['label']\n",
    "label_counts = Counter(labels)\n",
    "\n",
    "print(\"Label distribution:\")\n",
    "print(f\"Negative (0): {label_counts[0]}\")\n",
    "print(f\"Positive (1): {label_counts[1]}\")"
   ]
  },
  {
   "cell_type": "code",
   "execution_count": 9,
   "metadata": {},
   "outputs": [
    {
     "data": {
      "image/png": "[encoded data removed]",
      "text/plain": [
       "<Figure size 640x480 with 1 Axes>"
      ]
     },
     "metadata": {},
     "output_type": "display_data"
    }
   ],
   "source": [
    "plt.bar([\"Positive\", \"Negative\"], [label_counts[1], label_counts[0]])\n",
    "plt.title(\"Label Distribution\")\n",
    "plt.ylabel(\"Number of Samples\")\n",
    "plt.show()"
   ]
  },
  {
   "cell_type": "code",
   "execution_count": 10,
   "metadata": {},
   "outputs": [
    {
     "name": "stdout",
     "output_type": "stream",
     "text": [
      "Average review length: 233.7872\n",
      "Max review length: 2470\n",
      "Min review length: 10\n"
     ]
    }
   ],
   "source": [
    "import numpy as np\n",
    "\n",
    "text_length = [len(text.split()) for text in ds[\"train\"][\"text\"]]\n",
    "print(f\"Average review length: {np.mean(text_length)}\")\n",
    "print(f\"Max review length: {np.max(text_length)}\")\n",
    "print(f\"Min review length: {np.min(text_length)}\")"
   ]
  },
  {
   "cell_type": "code",
   "execution_count": 11,
   "metadata": {},
   "outputs": [
    {
     "data": {
      "image/png": "[encoded data removed]",
      "text/plain": [
       "<Figure size 1000x600 with 1 Axes>"
      ]
     },
     "metadata": {},
     "output_type": "display_data"
    }
   ],
   "source": [
    "plt.figure(figsize=(10, 6))\n",
    "plt.hist(text_length, bins=50, alpha=0.7)\n",
    "plt.title(\"Distribution of review lengths\")\n",
    "plt.xlabel(\"Number of words\")\n",
    "plt.ylabel(\"Frequency\")\n",
    "plt.show()"
   ]
  },
  {
   "cell_type": "code",
   "execution_count": 12,
   "metadata": {},
   "outputs": [
    {
     "data": {
      "text/plain": [
       "sentiment_label\n",
       "Negative    12500\n",
       "Positive    12500\n",
       "dtype: int64"
      ]
     },
     "execution_count": 12,
     "metadata": {},
     "output_type": "execute_result"
    }
   ],
   "source": [
    "train_df = ds['train'].to_pandas()\n",
    "train_df['sentiment_label'] = train_df['label'].map({0: 'Negative', 1: 'Positive'})\n",
    "train_df.groupby('sentiment_label').size()"
   ]
  },
  {
   "cell_type": "code",
   "execution_count": 13,
   "metadata": {},
   "outputs": [
    {
     "name": "stdout",
     "output_type": "stream",
     "text": [
      "Positive Sample 1: Giant crabs cursing in Japanese? What was in that drink? A terrible movie, but laughable. I love the invisible Samurai ghosties running around. Drink much beer before you see this movie.\n",
      "Negative Sample 1: Eric Rohmer's \"The Lady and the Duke\". could have used a better translation for the title. \"The English Woman and the Duke\", perhaps, would have been more accurate. While it's obvious this film is not for everyone, judging by the comments to this forum, it is worth watching because in spite of the intricate pattern of the story, Mr. Rohmer has created a movie that could be seen as an art exhibit in a museum. The mixed technology used in the movie, ultimately, works well.<br /><br />The strange story of Grace Elliott, a noble lady who had been the mistress of the king of England and of the French Duc d'Orleans, holds our attention. The setting is Paris during the days that followed the French Revolution. The country was in turmoil and the power was in the hands of the people, who couldn't care less for the aristocrats. The images show the agitators running around with heads of famous people right after their trip to the guillotine.<br /><br />Grace relation with the Duc had ended, but she remains a true friend to the great man that is in danger, himself, of losing his own head. Grace moves through all the horrors around her without being able of an escape. She even has an enemy in her own house, in the form of the cook, Pulcherie, who would not hesitate to denounce her at the least provocation.<br /><br />Watching the movie, at times, gives the viewer the impression one is going on a trip through the Louvre watching those huge canvases that depict this crucial era of the French history. Rather than finding the digitalization process distracting, we found it to enhance the film in many ways.<br /><br />Lucy Russell, as Grace Elliott, does a fine job to portray this woman who saw a lot during her lifetime. Her French seems to be excellent, as it appears she is fluent in it. As the Duc d'Orleans, Jean Claude Dreyfus made a fantastic contribution making us believe he is the nobleman himself without any effort. The supporting cast also was great. As an ensemble piece Mr. Rohmer gets good performances all around.<br /><br />For lovers of history, \"The Lady and the Duke\" will be an interesting movie to watch thanks to the vision of Eric Rohmer.\n",
      "Positive Sample 2: Earlier today I got into an argument on why so many people complain about modern films in which I encountered a curious statement: \"the character development in newer movies just isn't nearly as good or interesting as it used to be.\" Depending on the film(s) in question, this can be attributed to a number of things, sometimes generic special effects and plot-driven Hollywood garbage like War Of The Worlds, but in the case of over-the-top, uninteresting attempts at social commentary and a desperate struggle to put \"art\" back into cinema, it's movies like Dog Days that are to blame.<br /><br />I normally have a very high tolerance for movies, no matter how dull or pointless I find them (ranging from good, long ones like Andrei Rublev and Dogville, to ones I've considered painful to sit through a la Alpha Dog and Wild Wild West). I shut this movie off 45 minutes in, which is 30 minutes more than I actually should have. I wasn't interested in any of the characters whatsoever and found nothing substantial beyond a thin veil of unfocused pessimism. In an attempt to say something about the dregs of society, this film too easily falls into being self-indulgent, trite, and exploitative in a very sincere sense. Granted, I've seen many disturbing movies on the same subject, but there are so many better films out there about depressing, pathetic people (Happiness, Gummo, Kids, Salo, Storytelling, Irreversible) that actually contain characters of great emotional depth and personality. Dog Days had none more than an eighth grader's distaste for society, choosing to ignore any true intelligence about the way people actually are, and instead choosing to be a dull, awful, and hopelessly unoriginal attempt at a work of \"art.\" This isn't a characterization of the unknown or a clever observation into the dregs of society, it's just boring and nothing worth caring about.\n",
      "Negative Sample 2: Once upon a time Hollywood produced live-action, G-rated movies without foul language, immorality, and gore-splattered violence. These movies neither insulted your intelligence no manipulated your emotions. The heroes differed little from the crowd. They shared the same feelings and bore the same burdens. Since the 1970s, the film industry has pretty much written off G-rated movies for adults. Basically, modern mature audiences demand large doses of embellished realism for their cinematic diet, laced heavily with vile profanity, mattress-thumping sex, and knuckle-bruising fisticuffs. These ingredients constitute the difference between G-rated movies and those rated either PG or PG-13.<br /><br />Miraculously, director John Lee Hancock, who penned scripts for Clint Eastwood's \"A Perfect World\" (1993) and \"Midnight in the Garden of Good and Evil\" (1997), hits a home run with this G-rated, feel-good, four-bagger of a baseball epic that not only celebrates America's favorite summer time sport, but also extols the competitive spirit of the game. Essentially, \"The Rookie\" resembles the 1984 Robert Redford saga \"The Natural\" about an old-time slugger who makes a comeback. Unlike \"The Natural,\" \"The Rookie\" shuns swearing, sex, and violence.<br /><br />Moreover, rugged Dennis Quaid plays a real-life individual. Jim Morris' autobiography, \"The Oldest Rookie: Big-League Dreams from a Small-Town Guy,\" served as the basis for Mike \"Finding Forrester\") Rich's unpretentious, Norman Rockwell-style screenplay about white, middle-class aspirations. Morris attained his dream when he debuted on the mound as a relief pitcher in 1999. Although it doesn't belong in the same league with the inspirational James Stewart classic \"The Stratton Story\" (1949), \"The Rookie\" qualifies as the kind of movie that Hollywood rarely makes anymore because audiences find them antiquated.<br /><br />Hancock and Rich encapsulate their entertaining oddball biography in a halo of mysticism. A wildcat oil prospector convinces two Catholic nuns back in the 1920s to bankroll a West Texas well. Fearing they have blown their bucks on an ill-advised fantasy, the sisters blanket the arid terrain with rose petals and entreat St. Rita's patron saint of hopeless causes' to intervene. The well gushes! The Town of Big Lake emerges, and roughnecks swat at baseballs when they aren't drilling holes in the terrain. The spirit of baseball oozes from the earth like petroleum. Meanwhile, years later, the U.S. Navy doesn't keep Jim Morris, Sr., (Brian Cos of \"Manhunter\") and his family in one place long before uprooting them. The constant moving takes a toll on Jim Junior. Jim's dad shows little sympathy and berates baseball.<br /><br />Nevertheless, Jim has baseball in his blood, enough so that when he accepts a high school chemistry teacher's job in his Texas hometown, he organizes a baseball team. Like the foul-mouthed \"Bad News Bears,\" \"The Rookie\" chronicles Jim's triumph at turning losers into winners. Morris promises the team if they reach the divisional playoffs, he will try out for a professional baseball team. Predictably, Morris' students maintain their end of the bargain. At age 35, Jim stuns the big league scouts when he hurls fastballs at 98 miles-per-hour! \"The Rookie\" never fouls out.\n",
      "Positive Sample 3: This flick was a blow to me. I guess little girls should aspire to be nothing more than swimsuit models, home makers or mistresses, since that seems to be all they'll ever be portrayed as anyway. It is truly saddening to see an artist's work and life being so unjustly misinterpretated. Inconcievably (or perhaps it should have been expected), Artemisia's entire character and all that she stands for, had been reduced to a standard Hollywood, female character; a pitiful, physically flawless, helpless little creature, displaying none of the character traits that actually got her that place in history which was being mutilated here. Sadder yet, was to see that a great part of the audience was too badly educated in the area to comprehend the incredible gap between the message conveyed in the film, and reality. To portray the artist as someone in love with her real-life rapist, someone whom she in reality accused of raping her even when under torture, just plain pisses me off. If the director had nothing more substantial to say she should have refrained from basing her story on a real person.\n",
      "Negative Sample 3: I've watched this movie twice, and I plan to see it again. It is the movie that puts you in the director's place, regarding his romantic relations and the political situation in Israel. It also makes me cry because of remembering the wonderful time it was, and the horrible murder described there. It is really worth watching.\n",
      "Positive Sample 4: To confess having fantasies about Brad Pitt is a pretty tough admission for an heterosexual to make. But what can I tell you? Maybe is that famous extra something that everybody talks about and makes a star a star. It crosses that barrier. It pulls you into unknown sensual and emotional territory. Brando had it in spades, Montgomery Clift, Gary Cooper, James Dean of course and in more recent times, Tom Cruise, Jude Law, Johnny Depp, Ewan McGregor and Billy Crudup. Women fell in love with Garbo, Dietrich, Katharine and Audrey Hepburn, Grace Kelly, Marilyn Monroe, Julie Christie, Charlotte Rampling, Meryl Streep, Vanessa Redgrave, Julia Roberts and very very recently Natalie Portman. But Brad Pitt has, singlehandedly, redefined the concept. He is the only reason to go out, get in the car, find parking, buy a ticket, popcorn and get into a theatre to see \"Troy\" If you liked epics in the \"Jupiter's Darling\" style you may enjoy this. But if you don't, go all the same, we want to keep Brad Pitt in business.\n",
      "Negative Sample 4: I saw this film again and noticed how close it is to the novel if we ignore the part about Cary's [Leslie Howard] childhood. Considering that<br /><br />at the time not much can be shown on the screen, [not that there is much in the novel] the obsession of the character with Mildred [Bette Davis] is very well conveyed to the audience. I recommend this film to anyone who ever fell for another person and the other side tried to take advantage of him or her. I have read that Maugham was asked to make a recording of the novel for sale, but when he started to in the studio he began crying and could not finish more than a few lines and whole project was chucked. One can tell the novel is written from the heart and the film is a good<br /><br />adaptation of a part of it at least.\n",
      "Positive Sample 5: Pathetic attempt to use science to justify new age religion/philosophy. The two have nothing to do with each other and much of what is said about Quantum Physics in this mess is just plain wrong.<br /><br />Examples? Quantum theory supports the ideas in eastern religions that reality is an illusion. How? Well, in the world of the subatomic, you can never definitely predict a particles location at a specific time. You can only give the odds of it being precisely at one spot at one time. Also, the act of observation seems to affect the event. Solid particles can pass through barriers. All of this, so far, is accurate. But then they assert that that means that if you believed sincerely enough that you could walk through a wall, you could indeed do it. This is complete poppycock. Instead, the theory asserts that at our level, it is possible for you to walk through a wall, but it is merely by chance and has nothing to do with belief. Also you'd have to keep walking into the wall for eternity to ever have even the remotest chance of passing through the wall, the odds are so astronomically against it.<br /><br />This is but one example of how they misrepresent the science. But much more annoying is the narrative involving an unhappy photographer, played by Marlee Maitlan. About halfway through the picture it becomes so confused as to be incomprehensible. Something to do with negative thoughts leading to addiction and self-hate. There may be some truth to that, but Quantum physics has nothing to do with it.<br /><br />Plus, string theory is the hot new thing in physics nowadays. Instead of wasting your time with this dreck, I suggest you rent The Elegant Universe, an amazing series done for NOVA on PBS that gives you a history of physics from Newton and gravity to Ed Witten and M Theory in only 3 hour-long episodes. Quantum mechanics is explained there quite well if you want to know it without the fog of metaphysical appropriation.\n",
      "Negative Sample 5: I hated the first episode of this show ( 'Protesting Hippies' ) so much in 1999 that I shunned the rest. However, when it came on 'The Paramount Comedy Channel' I watched it in full and, to my surprise, found it absolutely hilarious ( Motto: never judge a comedy series in its first week )! <br /><br />Set in 1969, 'Hippies' stars Simon Pegg as 'Ray Purbbs', editor of an 'Oz'-like underground magazine called 'Mouth'. His friends are the feminist Jill, laid-back Alex, and the half-wit Hugo. Back in the late '60's, there was a feeling of incredible optimism amongst the young, that they could change the world through the printing of magazines nobody read. Rather than sneering at the hippies' naivety, 'Hippies' is affectionate towards it. Arthur Mathews' scripts cheekily parody a number of that era's icons - 'Hair', 'Woodstock', 'The Graduate', even the infamous 'Oz' obscenity trial of the early '70's. Excellent performances from the cast; Julian Rhind-Tutt's 'Alex' strangely put me in mind of the Richard O'Sullivan character from 'Man About The House'. Its a shame that there was never a second series, possibly because of people like me. If you missed 'Hippies', give it a try. Once you get past the dire opener, you're in for a treat!\n"
     ]
    }
   ],
   "source": [
    "import random\n",
    "random.seed(42)\n",
    "\n",
    "pos = random.sample(range(0, 12500), 5)\n",
    "neg = random.sample(range(12500, 25000), 5)\n",
    "\n",
    "for i in range(5):\n",
    "    print(f\"Positive Sample {i+1}: {ds['train'][pos[i]]['text']}\")\n",
    "    print(f\"Negative Sample {i+1}: {ds['train'][neg[i]]['text']}\")\n"
   ]
  },
  {
   "cell_type": "code",
   "execution_count": 14,
   "metadata": {},
   "outputs": [],
   "source": [
    "pos_text = [[ds['train'][idx]['text']] for idx in pos]\n",
    "neg_text = [[ds['train'][idx]['text']] for idx in neg]\n"
   ]
  },
  {
   "cell_type": "code",
   "execution_count": 15,
   "metadata": {},
   "outputs": [
    {
     "data": {
      "text/plain": [
       "{'positive 0': {'input_ids': tensor([[  101,  5016, 26076, 19752,  1999,  2887,  1029,  2054,  2001,  1999,\n",
       "           2008,  4392,  1029,  1037,  6659,  3185,  1010,  2021,  4756,  3085,\n",
       "           1012,  1045,  2293,  1996,  8841, 16352,  5745,  3111,  2770,  2105,\n",
       "           1012,  4392,  2172,  5404,  2077,  2017,  2156,  2023,  3185,  1012,\n",
       "            102]]), 'token_type_ids': tensor([[0, 0, 0, 0, 0, 0, 0, 0, 0, 0, 0, 0, 0, 0, 0, 0, 0, 0, 0, 0, 0, 0, 0, 0,\n",
       "          0, 0, 0, 0, 0, 0, 0, 0, 0, 0, 0, 0, 0, 0, 0, 0, 0]]), 'attention_mask': tensor([[1, 1, 1, 1, 1, 1, 1, 1, 1, 1, 1, 1, 1, 1, 1, 1, 1, 1, 1, 1, 1, 1, 1, 1,\n",
       "          1, 1, 1, 1, 1, 1, 1, 1, 1, 1, 1, 1, 1, 1, 1, 1, 1]])},\n",
       " 'positive 1': {'input_ids': tensor([[  101,  3041,  2651,  1045,  2288,  2046,  2019,  6685,  2006,  2339,\n",
       "           2061,  2116,  2111, 17612,  2055,  2715,  3152,  1999,  2029,  1045,\n",
       "           8567,  1037,  8025,  4861,  1024,  1000,  1996,  2839,  2458,  1999,\n",
       "          10947,  5691,  2074,  3475,  1005,  1056,  3053,  2004,  2204,  2030,\n",
       "           5875,  2004,  2009,  2109,  2000,  2022,  1012,  1000,  5834,  2006,\n",
       "           1996,  2143,  1006,  1055,  1007,  1999,  3160,  1010,  2023,  2064,\n",
       "           2022,  7108,  2000,   102]]), 'token_type_ids': tensor([[0, 0, 0, 0, 0, 0, 0, 0, 0, 0, 0, 0, 0, 0, 0, 0, 0, 0, 0, 0, 0, 0, 0, 0,\n",
       "          0, 0, 0, 0, 0, 0, 0, 0, 0, 0, 0, 0, 0, 0, 0, 0, 0, 0, 0, 0, 0, 0, 0, 0,\n",
       "          0, 0, 0, 0, 0, 0, 0, 0, 0, 0, 0, 0, 0, 0, 0, 0]]), 'attention_mask': tensor([[1, 1, 1, 1, 1, 1, 1, 1, 1, 1, 1, 1, 1, 1, 1, 1, 1, 1, 1, 1, 1, 1, 1, 1,\n",
       "          1, 1, 1, 1, 1, 1, 1, 1, 1, 1, 1, 1, 1, 1, 1, 1, 1, 1, 1, 1, 1, 1, 1, 1,\n",
       "          1, 1, 1, 1, 1, 1, 1, 1, 1, 1, 1, 1, 1, 1, 1, 1]])},\n",
       " 'positive 2': {'input_ids': tensor([[  101,  2023, 17312,  2001,  1037,  6271,  2000,  2033,  1012,  1045,\n",
       "           3984,  2210,  3057,  2323,  2004, 20781,  2000,  2022,  2498,  2062,\n",
       "           2084,  9880, 28880,  4275,  1010,  2188, 11153,  2030, 10414,  2229,\n",
       "           1010,  2144,  2008,  3849,  2000,  2022,  2035,  2027,  1005,  2222,\n",
       "           2412,  2022,  6791,  2004,  4312,  1012,  2009,  2003,  5621,  6517,\n",
       "           4181,  2075,  2000,  2156,  2019,  3063,  1005,  1055,  2147,  1998,\n",
       "           2166,  2108,  2061,   102]]), 'token_type_ids': tensor([[0, 0, 0, 0, 0, 0, 0, 0, 0, 0, 0, 0, 0, 0, 0, 0, 0, 0, 0, 0, 0, 0, 0, 0,\n",
       "          0, 0, 0, 0, 0, 0, 0, 0, 0, 0, 0, 0, 0, 0, 0, 0, 0, 0, 0, 0, 0, 0, 0, 0,\n",
       "          0, 0, 0, 0, 0, 0, 0, 0, 0, 0, 0, 0, 0, 0, 0, 0]]), 'attention_mask': tensor([[1, 1, 1, 1, 1, 1, 1, 1, 1, 1, 1, 1, 1, 1, 1, 1, 1, 1, 1, 1, 1, 1, 1, 1,\n",
       "          1, 1, 1, 1, 1, 1, 1, 1, 1, 1, 1, 1, 1, 1, 1, 1, 1, 1, 1, 1, 1, 1, 1, 1,\n",
       "          1, 1, 1, 1, 1, 1, 1, 1, 1, 1, 1, 1, 1, 1, 1, 1]])},\n",
       " 'positive 3': {'input_ids': tensor([[  101,  2000, 18766,  2383, 21233,  2055,  8226, 15091,  2003,  1037,\n",
       "           3492,  7823,  9634,  2005,  2019, 28229,  2000,  2191,  1012,  2021,\n",
       "           2054,  2064,  1045,  2425,  2017,  1029,  2672,  2003,  2008,  3297,\n",
       "           4469,  2242,  2008,  7955,  7566,  2055,  1998,  3084,  1037,  2732,\n",
       "           1037,  2732,  1012,  2009,  7821,  2008,  8803,  1012,  2009,  8005,\n",
       "           2017,  2046,  4242, 18753,  1998,  6832,  3700,  1012,  4435,  2080,\n",
       "           2018,  2009,  1999,   102]]), 'token_type_ids': tensor([[0, 0, 0, 0, 0, 0, 0, 0, 0, 0, 0, 0, 0, 0, 0, 0, 0, 0, 0, 0, 0, 0, 0, 0,\n",
       "          0, 0, 0, 0, 0, 0, 0, 0, 0, 0, 0, 0, 0, 0, 0, 0, 0, 0, 0, 0, 0, 0, 0, 0,\n",
       "          0, 0, 0, 0, 0, 0, 0, 0, 0, 0, 0, 0, 0, 0, 0, 0]]), 'attention_mask': tensor([[1, 1, 1, 1, 1, 1, 1, 1, 1, 1, 1, 1, 1, 1, 1, 1, 1, 1, 1, 1, 1, 1, 1, 1,\n",
       "          1, 1, 1, 1, 1, 1, 1, 1, 1, 1, 1, 1, 1, 1, 1, 1, 1, 1, 1, 1, 1, 1, 1, 1,\n",
       "          1, 1, 1, 1, 1, 1, 1, 1, 1, 1, 1, 1, 1, 1, 1, 1]])},\n",
       " 'positive 4': {'input_ids': tensor([[  101, 17203,  3535,  2000,  2224,  2671,  2000, 16114,  2047,  2287,\n",
       "           4676,  1013,  4695,  1012,  1996,  2048,  2031,  2498,  2000,  2079,\n",
       "           2007,  2169,  2060,  1998,  2172,  1997,  2054,  2003,  2056,  2055,\n",
       "           8559,  5584,  1999,  2023,  6752,  2003,  2074,  5810,  3308,  1012,\n",
       "           1026,  7987,  1013,  1028,  1026,  7987,  1013,  1028,  4973,  1029,\n",
       "           8559,  3399,  6753,  1996,  4784,  1999,  2789, 11822,  2008,  4507,\n",
       "           2003,  2019, 12492,   102]]), 'token_type_ids': tensor([[0, 0, 0, 0, 0, 0, 0, 0, 0, 0, 0, 0, 0, 0, 0, 0, 0, 0, 0, 0, 0, 0, 0, 0,\n",
       "          0, 0, 0, 0, 0, 0, 0, 0, 0, 0, 0, 0, 0, 0, 0, 0, 0, 0, 0, 0, 0, 0, 0, 0,\n",
       "          0, 0, 0, 0, 0, 0, 0, 0, 0, 0, 0, 0, 0, 0, 0, 0]]), 'attention_mask': tensor([[1, 1, 1, 1, 1, 1, 1, 1, 1, 1, 1, 1, 1, 1, 1, 1, 1, 1, 1, 1, 1, 1, 1, 1,\n",
       "          1, 1, 1, 1, 1, 1, 1, 1, 1, 1, 1, 1, 1, 1, 1, 1, 1, 1, 1, 1, 1, 1, 1, 1,\n",
       "          1, 1, 1, 1, 1, 1, 1, 1, 1, 1, 1, 1, 1, 1, 1, 1]])},\n",
       " 'negative 0': {'input_ids': tensor([[  101,  4388, 20996, 14227,  2121,  1005,  1055,  1000,  1996,  3203,\n",
       "           1998,  1996,  3804,  1000,  1012,  2071,  2031,  2109,  1037,  2488,\n",
       "           5449,  2005,  1996,  2516,  1012,  1000,  1996,  2394,  2450,  1998,\n",
       "           1996,  3804,  1000,  1010,  3383,  1010,  2052,  2031,  2042,  2062,\n",
       "           8321,  1012,  2096,  2009,  1005,  1055,  5793,  2023,  2143,  2003,\n",
       "           2025,  2005,  3071,  1010, 13325,  2011,  1996,  7928,  2000,  2023,\n",
       "           7057,  1010,  2009,   102]]), 'token_type_ids': tensor([[0, 0, 0, 0, 0, 0, 0, 0, 0, 0, 0, 0, 0, 0, 0, 0, 0, 0, 0, 0, 0, 0, 0, 0,\n",
       "          0, 0, 0, 0, 0, 0, 0, 0, 0, 0, 0, 0, 0, 0, 0, 0, 0, 0, 0, 0, 0, 0, 0, 0,\n",
       "          0, 0, 0, 0, 0, 0, 0, 0, 0, 0, 0, 0, 0, 0, 0, 0]]), 'attention_mask': tensor([[1, 1, 1, 1, 1, 1, 1, 1, 1, 1, 1, 1, 1, 1, 1, 1, 1, 1, 1, 1, 1, 1, 1, 1,\n",
       "          1, 1, 1, 1, 1, 1, 1, 1, 1, 1, 1, 1, 1, 1, 1, 1, 1, 1, 1, 1, 1, 1, 1, 1,\n",
       "          1, 1, 1, 1, 1, 1, 1, 1, 1, 1, 1, 1, 1, 1, 1, 1]])},\n",
       " 'negative 1': {'input_ids': tensor([[  101,  2320,  2588,  1037,  2051,  5365,  2550,  2444,  1011,  2895,\n",
       "           1010,  1043,  1011,  6758,  5691,  2302, 12487,  2653,  1010, 10047,\n",
       "          22049,  3012,  1010,  1998, 13638,  1011, 11867, 20051, 14050,  4808,\n",
       "           1012,  2122,  5691,  4445, 23637,  2115,  4454,  2053, 20063,  2115,\n",
       "           6699,  1012,  1996,  7348, 19541,  2210,  2013,  1996,  4306,  1012,\n",
       "           2027,  4207,  1996,  2168,  5346,  1998,  8501,  1996,  2168, 10859,\n",
       "           2015,  1012,  2144,   102]]), 'token_type_ids': tensor([[0, 0, 0, 0, 0, 0, 0, 0, 0, 0, 0, 0, 0, 0, 0, 0, 0, 0, 0, 0, 0, 0, 0, 0,\n",
       "          0, 0, 0, 0, 0, 0, 0, 0, 0, 0, 0, 0, 0, 0, 0, 0, 0, 0, 0, 0, 0, 0, 0, 0,\n",
       "          0, 0, 0, 0, 0, 0, 0, 0, 0, 0, 0, 0, 0, 0, 0, 0]]), 'attention_mask': tensor([[1, 1, 1, 1, 1, 1, 1, 1, 1, 1, 1, 1, 1, 1, 1, 1, 1, 1, 1, 1, 1, 1, 1, 1,\n",
       "          1, 1, 1, 1, 1, 1, 1, 1, 1, 1, 1, 1, 1, 1, 1, 1, 1, 1, 1, 1, 1, 1, 1, 1,\n",
       "          1, 1, 1, 1, 1, 1, 1, 1, 1, 1, 1, 1, 1, 1, 1, 1]])},\n",
       " 'negative 2': {'input_ids': tensor([[  101,  1045,  1005,  2310,  3427,  2023,  3185,  3807,  1010,  1998,\n",
       "           1045,  2933,  2000,  2156,  2009,  2153,  1012,  2009,  2003,  1996,\n",
       "           3185,  2008,  8509,  2017,  1999,  1996,  2472,  1005,  1055,  2173,\n",
       "           1010,  4953,  2010,  6298,  4262,  1998,  1996,  2576,  3663,  1999,\n",
       "           3956,  1012,  2009,  2036,  3084,  2033,  5390,  2138,  1997, 10397,\n",
       "           1996,  6919,  2051,  2009,  2001,  1010,  1998,  1996,  9202,  4028,\n",
       "           2649,  2045,  1012,   102]]), 'token_type_ids': tensor([[0, 0, 0, 0, 0, 0, 0, 0, 0, 0, 0, 0, 0, 0, 0, 0, 0, 0, 0, 0, 0, 0, 0, 0,\n",
       "          0, 0, 0, 0, 0, 0, 0, 0, 0, 0, 0, 0, 0, 0, 0, 0, 0, 0, 0, 0, 0, 0, 0, 0,\n",
       "          0, 0, 0, 0, 0, 0, 0, 0, 0, 0, 0, 0, 0, 0, 0, 0]]), 'attention_mask': tensor([[1, 1, 1, 1, 1, 1, 1, 1, 1, 1, 1, 1, 1, 1, 1, 1, 1, 1, 1, 1, 1, 1, 1, 1,\n",
       "          1, 1, 1, 1, 1, 1, 1, 1, 1, 1, 1, 1, 1, 1, 1, 1, 1, 1, 1, 1, 1, 1, 1, 1,\n",
       "          1, 1, 1, 1, 1, 1, 1, 1, 1, 1, 1, 1, 1, 1, 1, 1]])},\n",
       " 'negative 3': {'input_ids': tensor([[  101,  1045,  2387,  2023,  2143,  2153,  1998,  4384,  2129,  2485,\n",
       "           2009,  2003,  2000,  1996,  3117,  2065,  2057,  8568,  1996,  2112,\n",
       "           2055, 20533,  1005,  1055,  1031,  8886,  4922,  1033,  5593,  1012,\n",
       "           6195,  2008,  1026,  7987,  1013,  1028,  1026,  7987,  1013,  1028,\n",
       "           2012,  1996,  2051,  2025,  2172,  2064,  2022,  3491,  2006,  1996,\n",
       "           3898,  1010,  1031,  2025,  2008,  2045,  2003,  2172,  1999,  1996,\n",
       "           3117,  1033,  1996,   102]]), 'token_type_ids': tensor([[0, 0, 0, 0, 0, 0, 0, 0, 0, 0, 0, 0, 0, 0, 0, 0, 0, 0, 0, 0, 0, 0, 0, 0,\n",
       "          0, 0, 0, 0, 0, 0, 0, 0, 0, 0, 0, 0, 0, 0, 0, 0, 0, 0, 0, 0, 0, 0, 0, 0,\n",
       "          0, 0, 0, 0, 0, 0, 0, 0, 0, 0, 0, 0, 0, 0, 0, 0]]), 'attention_mask': tensor([[1, 1, 1, 1, 1, 1, 1, 1, 1, 1, 1, 1, 1, 1, 1, 1, 1, 1, 1, 1, 1, 1, 1, 1,\n",
       "          1, 1, 1, 1, 1, 1, 1, 1, 1, 1, 1, 1, 1, 1, 1, 1, 1, 1, 1, 1, 1, 1, 1, 1,\n",
       "          1, 1, 1, 1, 1, 1, 1, 1, 1, 1, 1, 1, 1, 1, 1, 1]])},\n",
       " 'negative 4': {'input_ids': tensor([[  101,  1045,  6283,  1996,  2034,  2792,  1997,  2023,  2265,  1006,\n",
       "           1005, 21248,  5099, 13046,  1005,  1007,  2061,  2172,  1999,  2639,\n",
       "           2008,  1045, 18454, 10087,  2094,  1996,  2717,  1012,  2174,  1010,\n",
       "           2043,  2009,  2234,  2006,  1005,  1996, 11734,  4038,  3149,  1005,\n",
       "           1045,  3427,  2009,  1999,  2440,  1998,  1010,  2000,  2026,  4474,\n",
       "           1010,  2179,  2009,  7078, 26316,  1006, 12652,  1024,  2196,  3648,\n",
       "           1037,  4038,  2186,   102]]), 'token_type_ids': tensor([[0, 0, 0, 0, 0, 0, 0, 0, 0, 0, 0, 0, 0, 0, 0, 0, 0, 0, 0, 0, 0, 0, 0, 0,\n",
       "          0, 0, 0, 0, 0, 0, 0, 0, 0, 0, 0, 0, 0, 0, 0, 0, 0, 0, 0, 0, 0, 0, 0, 0,\n",
       "          0, 0, 0, 0, 0, 0, 0, 0, 0, 0, 0, 0, 0, 0, 0, 0]]), 'attention_mask': tensor([[1, 1, 1, 1, 1, 1, 1, 1, 1, 1, 1, 1, 1, 1, 1, 1, 1, 1, 1, 1, 1, 1, 1, 1,\n",
       "          1, 1, 1, 1, 1, 1, 1, 1, 1, 1, 1, 1, 1, 1, 1, 1, 1, 1, 1, 1, 1, 1, 1, 1,\n",
       "          1, 1, 1, 1, 1, 1, 1, 1, 1, 1, 1, 1, 1, 1, 1, 1]])}}"
      ]
     },
     "execution_count": 15,
     "metadata": {},
     "output_type": "execute_result"
    }
   ],
   "source": [
    "pretraied_model_name = \"bert-base-uncased\"\n",
    "tokenizer = BertTokenizer.from_pretrained(pretraied_model_name)\n",
    "\n",
    "tokens = {}\n",
    "\n",
    "for idx, pos_sen in enumerate(pos_text):\n",
    "    token = tokenizer(pos_sen, max_length=64, truncation=True, padding=True, return_tensors=\"pt\")\n",
    "    tokens[f'positive {idx}'] = token\n",
    "\n",
    "for idx, neg_sen in enumerate(neg_text):\n",
    "    token = tokenizer(neg_sen, max_length=64, truncation=True, padding=True, return_tensors=\"pt\")\n",
    "    tokens[f'negative {idx}'] = token\n",
    "\n",
    "tokens"
   ]
  },
  {
   "cell_type": "code",
   "execution_count": 16,
   "metadata": {},
   "outputs": [
    {
     "data": {
      "text/plain": [
       "{'positive text 0': '[CLS] giant crabs cursing in japanese? what was in that drink? a terrible movie, but laughable. i love the invisible samurai ghosties running around. drink much beer before you see this movie. [SEP]',\n",
       " 'positive text 1': '[CLS] earlier today i got into an argument on why so many people complain about modern films in which i encountered a curious statement : \" the character development in newer movies just isn\\'t nearly as good or interesting as it used to be. \" depending on the film ( s ) in question, this can be attributed to [SEP]',\n",
       " 'positive text 2': \"[CLS] this flick was a blow to me. i guess little girls should aspire to be nothing more than swimsuit models, home makers or mistresses, since that seems to be all they'll ever be portrayed as anyway. it is truly saddening to see an artist's work and life being so [SEP]\",\n",
       " 'positive text 3': '[CLS] to confess having fantasies about brad pitt is a pretty tough admission for an heterosexual to make. but what can i tell you? maybe is that famous extra something that everybody talks about and makes a star a star. it crosses that barrier. it pulls you into unknown sensual and emotional territory. brando had it in [SEP]',\n",
       " 'positive text 4': '[CLS] pathetic attempt to use science to justify new age religion / philosophy. the two have nothing to do with each other and much of what is said about quantum physics in this mess is just plain wrong. < br / > < br / > examples? quantum theory supports the ideas in eastern religions that reality is an illusion [SEP]',\n",
       " 'negative text 5': '[CLS] eric rohmer\\'s \" the lady and the duke \". could have used a better translation for the title. \" the english woman and the duke \", perhaps, would have been more accurate. while it\\'s obvious this film is not for everyone, judging by the comments to this forum, it [SEP]',\n",
       " 'negative text 6': '[CLS] once upon a time hollywood produced live - action, g - rated movies without foul language, immorality, and gore - splattered violence. these movies neither insulted your intelligence no manipulated your emotions. the heroes differed little from the crowd. they shared the same feelings and bore the same burdens. since [SEP]',\n",
       " 'negative text 7': \"[CLS] i've watched this movie twice, and i plan to see it again. it is the movie that puts you in the director's place, regarding his romantic relations and the political situation in israel. it also makes me cry because of remembering the wonderful time it was, and the horrible murder described there. [SEP]\",\n",
       " 'negative text 8': \"[CLS] i saw this film again and noticed how close it is to the novel if we ignore the part about cary's [ leslie howard ] childhood. considering that < br / > < br / > at the time not much can be shown on the screen, [ not that there is much in the novel ] the [SEP]\",\n",
       " 'negative text 9': \"[CLS] i hated the first episode of this show ('protesting hippies') so much in 1999 that i shunned the rest. however, when it came on'the paramount comedy channel'i watched it in full and, to my surprise, found it absolutely hilarious ( motto : never judge a comedy series [SEP]\"}"
      ]
     },
     "execution_count": 16,
     "metadata": {},
     "output_type": "execute_result"
    }
   ],
   "source": [
    "text_decoded = {}\n",
    "for idx,token in enumerate(tokens.keys()):\n",
    "    if token.split()[0] == \"positive\":\n",
    "        text_d = tokenizer.decode(tokens[token][\"input_ids\"][0])\n",
    "        text_decoded[f\"positive text {idx}\"] = text_d\n",
    "    else:\n",
    "        text_d = tokenizer.decode(tokens[token][\"input_ids\"][0])\n",
    "        text_decoded[f\"negative text {idx}\"] = text_d\n",
    "\n",
    "text_decoded"
   ]
  },
  {
   "cell_type": "code",
   "execution_count": 18,
   "metadata": {},
   "outputs": [
    {
     "name": "stdout",
     "output_type": "stream",
     "text": [
      "Text: [CLS] giant crabs cursing in japanese? what was in that drink? a terrible movie, but laughable. i love the invisible samurai ghosties running around. drink much beer before you see this movie. [SEP]\n",
      "Tokens: tensor([  101,  5016, 26076, 19752,  1999,  2887,  1029,  2054,  2001,  1999,\n",
      "         2008,  4392,  1029,  1037,  6659,  3185,  1010,  2021,  4756,  3085,\n",
      "         1012,  1045,  2293,  1996,  8841, 16352,  5745,  3111,  2770,  2105,\n",
      "         1012,  4392,  2172,  5404,  2077,  2017,  2156,  2023,  3185,  1012,\n",
      "          102])\n",
      "=========================\n",
      "Text: [CLS] earlier today i got into an argument on why so many people complain about modern films in which i encountered a curious statement : \" the character development in newer movies just isn't nearly as good or interesting as it used to be. \" depending on the film ( s ) in question, this can be attributed to [SEP]\n",
      "Tokens: tensor([  101,  3041,  2651,  1045,  2288,  2046,  2019,  6685,  2006,  2339,\n",
      "         2061,  2116,  2111, 17612,  2055,  2715,  3152,  1999,  2029,  1045,\n",
      "         8567,  1037,  8025,  4861,  1024,  1000,  1996,  2839,  2458,  1999,\n",
      "        10947,  5691,  2074,  3475,  1005,  1056,  3053,  2004,  2204,  2030,\n",
      "         5875,  2004,  2009,  2109,  2000,  2022,  1012,  1000,  5834,  2006,\n",
      "         1996,  2143,  1006,  1055,  1007,  1999,  3160,  1010,  2023,  2064,\n",
      "         2022,  7108,  2000,   102])\n",
      "=========================\n",
      "Text: [CLS] this flick was a blow to me. i guess little girls should aspire to be nothing more than swimsuit models, home makers or mistresses, since that seems to be all they'll ever be portrayed as anyway. it is truly saddening to see an artist's work and life being so [SEP]\n",
      "Tokens: tensor([  101,  2023, 17312,  2001,  1037,  6271,  2000,  2033,  1012,  1045,\n",
      "         3984,  2210,  3057,  2323,  2004, 20781,  2000,  2022,  2498,  2062,\n",
      "         2084,  9880, 28880,  4275,  1010,  2188, 11153,  2030, 10414,  2229,\n",
      "         1010,  2144,  2008,  3849,  2000,  2022,  2035,  2027,  1005,  2222,\n",
      "         2412,  2022,  6791,  2004,  4312,  1012,  2009,  2003,  5621,  6517,\n",
      "         4181,  2075,  2000,  2156,  2019,  3063,  1005,  1055,  2147,  1998,\n",
      "         2166,  2108,  2061,   102])\n",
      "=========================\n",
      "Text: [CLS] to confess having fantasies about brad pitt is a pretty tough admission for an heterosexual to make. but what can i tell you? maybe is that famous extra something that everybody talks about and makes a star a star. it crosses that barrier. it pulls you into unknown sensual and emotional territory. brando had it in [SEP]\n",
      "Tokens: tensor([  101,  2000, 18766,  2383, 21233,  2055,  8226, 15091,  2003,  1037,\n",
      "         3492,  7823,  9634,  2005,  2019, 28229,  2000,  2191,  1012,  2021,\n",
      "         2054,  2064,  1045,  2425,  2017,  1029,  2672,  2003,  2008,  3297,\n",
      "         4469,  2242,  2008,  7955,  7566,  2055,  1998,  3084,  1037,  2732,\n",
      "         1037,  2732,  1012,  2009,  7821,  2008,  8803,  1012,  2009,  8005,\n",
      "         2017,  2046,  4242, 18753,  1998,  6832,  3700,  1012,  4435,  2080,\n",
      "         2018,  2009,  1999,   102])\n",
      "=========================\n",
      "Text: [CLS] pathetic attempt to use science to justify new age religion / philosophy. the two have nothing to do with each other and much of what is said about quantum physics in this mess is just plain wrong. < br / > < br / > examples? quantum theory supports the ideas in eastern religions that reality is an illusion [SEP]\n",
      "Tokens: tensor([  101, 17203,  3535,  2000,  2224,  2671,  2000, 16114,  2047,  2287,\n",
      "         4676,  1013,  4695,  1012,  1996,  2048,  2031,  2498,  2000,  2079,\n",
      "         2007,  2169,  2060,  1998,  2172,  1997,  2054,  2003,  2056,  2055,\n",
      "         8559,  5584,  1999,  2023,  6752,  2003,  2074,  5810,  3308,  1012,\n",
      "         1026,  7987,  1013,  1028,  1026,  7987,  1013,  1028,  4973,  1029,\n",
      "         8559,  3399,  6753,  1996,  4784,  1999,  2789, 11822,  2008,  4507,\n",
      "         2003,  2019, 12492,   102])\n",
      "=========================\n",
      "Text: [CLS] eric rohmer's \" the lady and the duke \". could have used a better translation for the title. \" the english woman and the duke \", perhaps, would have been more accurate. while it's obvious this film is not for everyone, judging by the comments to this forum, it [SEP]\n",
      "Tokens: tensor([  101,  4388, 20996, 14227,  2121,  1005,  1055,  1000,  1996,  3203,\n",
      "         1998,  1996,  3804,  1000,  1012,  2071,  2031,  2109,  1037,  2488,\n",
      "         5449,  2005,  1996,  2516,  1012,  1000,  1996,  2394,  2450,  1998,\n",
      "         1996,  3804,  1000,  1010,  3383,  1010,  2052,  2031,  2042,  2062,\n",
      "         8321,  1012,  2096,  2009,  1005,  1055,  5793,  2023,  2143,  2003,\n",
      "         2025,  2005,  3071,  1010, 13325,  2011,  1996,  7928,  2000,  2023,\n",
      "         7057,  1010,  2009,   102])\n",
      "=========================\n",
      "Text: [CLS] once upon a time hollywood produced live - action, g - rated movies without foul language, immorality, and gore - splattered violence. these movies neither insulted your intelligence no manipulated your emotions. the heroes differed little from the crowd. they shared the same feelings and bore the same burdens. since [SEP]\n",
      "Tokens: tensor([  101,  2320,  2588,  1037,  2051,  5365,  2550,  2444,  1011,  2895,\n",
      "         1010,  1043,  1011,  6758,  5691,  2302, 12487,  2653,  1010, 10047,\n",
      "        22049,  3012,  1010,  1998, 13638,  1011, 11867, 20051, 14050,  4808,\n",
      "         1012,  2122,  5691,  4445, 23637,  2115,  4454,  2053, 20063,  2115,\n",
      "         6699,  1012,  1996,  7348, 19541,  2210,  2013,  1996,  4306,  1012,\n",
      "         2027,  4207,  1996,  2168,  5346,  1998,  8501,  1996,  2168, 10859,\n",
      "         2015,  1012,  2144,   102])\n",
      "=========================\n",
      "Text: [CLS] i've watched this movie twice, and i plan to see it again. it is the movie that puts you in the director's place, regarding his romantic relations and the political situation in israel. it also makes me cry because of remembering the wonderful time it was, and the horrible murder described there. [SEP]\n",
      "Tokens: tensor([  101,  1045,  1005,  2310,  3427,  2023,  3185,  3807,  1010,  1998,\n",
      "         1045,  2933,  2000,  2156,  2009,  2153,  1012,  2009,  2003,  1996,\n",
      "         3185,  2008,  8509,  2017,  1999,  1996,  2472,  1005,  1055,  2173,\n",
      "         1010,  4953,  2010,  6298,  4262,  1998,  1996,  2576,  3663,  1999,\n",
      "         3956,  1012,  2009,  2036,  3084,  2033,  5390,  2138,  1997, 10397,\n",
      "         1996,  6919,  2051,  2009,  2001,  1010,  1998,  1996,  9202,  4028,\n",
      "         2649,  2045,  1012,   102])\n",
      "=========================\n",
      "Text: [CLS] i saw this film again and noticed how close it is to the novel if we ignore the part about cary's [ leslie howard ] childhood. considering that < br / > < br / > at the time not much can be shown on the screen, [ not that there is much in the novel ] the [SEP]\n",
      "Tokens: tensor([  101,  1045,  2387,  2023,  2143,  2153,  1998,  4384,  2129,  2485,\n",
      "         2009,  2003,  2000,  1996,  3117,  2065,  2057,  8568,  1996,  2112,\n",
      "         2055, 20533,  1005,  1055,  1031,  8886,  4922,  1033,  5593,  1012,\n",
      "         6195,  2008,  1026,  7987,  1013,  1028,  1026,  7987,  1013,  1028,\n",
      "         2012,  1996,  2051,  2025,  2172,  2064,  2022,  3491,  2006,  1996,\n",
      "         3898,  1010,  1031,  2025,  2008,  2045,  2003,  2172,  1999,  1996,\n",
      "         3117,  1033,  1996,   102])\n",
      "=========================\n",
      "Text: [CLS] i hated the first episode of this show ('protesting hippies') so much in 1999 that i shunned the rest. however, when it came on'the paramount comedy channel'i watched it in full and, to my surprise, found it absolutely hilarious ( motto : never judge a comedy series [SEP]\n",
      "Tokens: tensor([  101,  1045,  6283,  1996,  2034,  2792,  1997,  2023,  2265,  1006,\n",
      "         1005, 21248,  5099, 13046,  1005,  1007,  2061,  2172,  1999,  2639,\n",
      "         2008,  1045, 18454, 10087,  2094,  1996,  2717,  1012,  2174,  1010,\n",
      "         2043,  2009,  2234,  2006,  1005,  1996, 11734,  4038,  3149,  1005,\n",
      "         1045,  3427,  2009,  1999,  2440,  1998,  1010,  2000,  2026,  4474,\n",
      "         1010,  2179,  2009,  7078, 26316,  1006, 12652,  1024,  2196,  3648,\n",
      "         1037,  4038,  2186,   102])\n",
      "=========================\n"
     ]
    }
   ],
   "source": [
    "for i, (key, value) in enumerate(tokens.items()):\n",
    "    text_key = list(text_decoded.keys())[i]\n",
    "    print(f\"Text: {text_decoded[text_key]}\")\n",
    "    print(f\"Tokens: {value['input_ids'][0]}\")\n",
    "    print(\"=\"*25)\n"
   ]
  },
  {
   "cell_type": "code",
   "execution_count": 19,
   "metadata": {},
   "outputs": [],
   "source": [
    "from transformers import BertForSequenceClassification\n",
    "import torch\n",
    "from torch.optim import AdamW\n",
    "\n",
    "class BertModel:\n",
    "\n",
    "    def __init__(self, model_name = \"bert-base-uncased\", num_classes = 2, lr = 2e-5):\n",
    "\n",
    "        self.device = torch.device(\"cuda\" if torch.cuda.is_available() else \"cpu\") \n",
    "        self.model = BertForSequenceClassification.from_pretrained(model_name,num_labels = num_classes)\n",
    "        self.model.to(self.device)\n",
    "        self.optimizer = AdamW(self.model.parameters(), lr = lr)\n",
    "\n",
    "    def get_model(self): return self.model\n",
    "\n",
    "    def get_optimizer(self): return self.optimizer\n",
    "\n",
    "    def get_device(self): return self.device\n"
   ]
  },
  {
   "cell_type": "code",
   "execution_count": 21,
   "metadata": {},
   "outputs": [
    {
     "name": "stderr",
     "output_type": "stream",
     "text": [
      "Some weights of BertForSequenceClassification were not initialized from the model checkpoint at bert-base-uncased and are newly initialized: ['classifier.bias', 'classifier.weight']\n",
      "You should probably TRAIN this model on a down-stream task to be able to use it for predictions and inference.\n"
     ]
    },
    {
     "name": "stdout",
     "output_type": "stream",
     "text": [
      "positive 0: Positive (confidence: 0.511)\n",
      "positive 1: Negative (confidence: 0.513)\n",
      "positive 2: Positive (confidence: 0.521)\n",
      "positive 3: Negative (confidence: 0.504)\n",
      "positive 4: Positive (confidence: 0.505)\n",
      "negative 0: Positive (confidence: 0.506)\n",
      "negative 1: Negative (confidence: 0.520)\n",
      "negative 2: Negative (confidence: 0.500)\n",
      "negative 3: Negative (confidence: 0.514)\n",
      "negative 4: Positive (confidence: 0.513)\n"
     ]
    }
   ],
   "source": [
    "bert_model = BertModel()\n",
    "model = bert_model.get_model()\n",
    "optimizer = bert_model.get_optimizer()\n",
    "device = bert_model.get_device()\n",
    "model.eval()\n",
    "\n",
    "predictions = {}\n",
    "with torch.no_grad():\n",
    "    for key, token_data in tokens.items():\n",
    "        input_ids = token_data['input_ids'].to(device)\n",
    "        attention_mask = token_data['attention_mask'].to(device)\n",
    "\n",
    "        outputs = model(input_ids=input_ids, attention_mask=attention_mask)\n",
    "        logits = outputs.logits\n",
    "\n",
    "        confidence = torch.softmax(logits, dim=1).max().item()\n",
    "        predicted_label = torch.argmax(logits, dim=-1).item()\n",
    "        predictions[key] = {'predicted_label': predicted_label,\n",
    "                            'confidence': confidence,\n",
    "                            'sentiment': 'Positive' if predicted_label == 1 else 'Negative'}\n",
    "        \n",
    "for key, pred in predictions.items():\n",
    "    print(f\"{key}: {pred['sentiment']} (confidence: {pred['confidence']:.3f})\")\n"
   ]
  }
 ],
 "metadata": {
  "kernelspec": {
   "display_name": "my_env",
   "language": "python",
   "name": "python3"
  },
  "language_info": {
   "codemirror_mode": {
    "name": "ipython",
    "version": 3
   },
   "file_extension": ".py",
   "mimetype": "text/x-python",
   "name": "python",
   "nbconvert_exporter": "python",
   "pygments_lexer": "ipython3",
   "version": "3.12.11"
  }
 },
 "nbformat": 4,
 "nbformat_minor": 2
}
